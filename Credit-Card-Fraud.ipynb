{
 "cells": [
  {
   "attachments": {},
   "cell_type": "markdown",
   "metadata": {},
   "source": [
    "# Credit Card Fraud Detection\n",
    "\n",
    "**Overview**: Financial losses caused by credit card fraudulent activities amount to tens of billions of dollars globally. Currently, no definite taxonomy on credit card fraud types exists, though certain patterns are known to occur more frequently than others. We will use the model for fraud detection using Logistic Regression, Decision Trees, Random Forest and Support Vector Machines (SVM).   \n",
    "\n"
   ]
  },
  {
   "attachments": {},
   "cell_type": "markdown",
   "metadata": {},
   "source": [
    "### Getting Started\n",
    "\n",
    "Currently, there are very limited datasets on Kaggle that shares credit card transactions, though it is masked to protect personal information. To overcome this limitation, Transaction Data Simulator (https://fraud-detection-handbook.github.io/fraud-detection-handbook/Chapter_3_GettingStarted/SimulatedDataset.html) was used to generate dummy customers and their transactions. Fraud data was added for three scenarios:\n",
    "\n",
    "1. **Scenario 1:** Any transaction with an amount greater than 220 is considered fraudulent.\n",
    "2. **Scenario 2:** Every day, a list of two terminals is drawn at random. All transactions on these terminals over the next 28 days will be marked as fraudulent.\n",
    "3. **Scenario 3:** Every day, a list of three customers is drawn at random. In the next 14 days, one-third of their transactions will have their amounts multiplied by five and marked as fraudulent.\n",
    "\n",
    "Scenario 3 will be used for card-not-present scenarios to apply modeling techniques to identify the fraud and compare it with actual fraud data. Card-not-present refers to the general category of frauds conducted remotely, either by mail, phone, or on the Internet, using only some of the information present on a card.\n"
   ]
  },
  {
   "cell_type": "markdown",
   "metadata": {},
   "source": [
    "### Understanding the Data\n",
    "\n",
    "To gain a better understanding of the data, please read the information provided in the UCI link above, and examine the **Materials and Methods** section of the paper.  How many marketing campaigns does this data represent?"
   ]
  },
  {
   "cell_type": "code",
   "execution_count": null,
   "metadata": {},
   "outputs": [],
   "source": []
  },
  {
   "cell_type": "markdown",
   "metadata": {},
   "source": [
    "### Read in the Data\n",
    "\n",
    "Use pandas to read in the dataset `bank-additional-full.csv` and assign to a meaningful variable name."
   ]
  },
  {
   "cell_type": "code",
   "execution_count": 2,
   "metadata": {},
   "outputs": [],
   "source": [
    "import pandas as pd\n",
    "import numpy as np\n",
    "import os\n",
    "import datetime\n",
    "import matplotlib.pyplot as plt\n",
    "import seaborn as sns\n",
    "from sklearn.model_selection import train_test_split\n",
    "from sklearn.linear_model import LogisticRegression\n",
    "from sklearn.tree import DecisionTreeClassifier\n",
    "from sklearn.metrics import classification_report, confusion_matrix, accuracy_score, precision_score, recall_score, f1_score\n",
    "from sklearn.ensemble import RandomForestClassifier\n",
    "from sklearn.model_selection import GridSearchCV\n",
    "from sklearn.model_selection import RandomizedSearchCV"
   ]
  },
  {
   "cell_type": "code",
   "execution_count": 4,
   "metadata": {},
   "outputs": [],
   "source": [
    "# Load the data\n",
    "df = pd.read_csv('simulated-data-raw-csv/all_transactions.csv', sep = ',')"
   ]
  },
  {
   "cell_type": "code",
   "execution_count": 6,
   "metadata": {},
   "outputs": [
    {
     "data": {
      "text/html": [
       "<div>\n",
       "<style scoped>\n",
       "    .dataframe tbody tr th:only-of-type {\n",
       "        vertical-align: middle;\n",
       "    }\n",
       "\n",
       "    .dataframe tbody tr th {\n",
       "        vertical-align: top;\n",
       "    }\n",
       "\n",
       "    .dataframe thead th {\n",
       "        text-align: right;\n",
       "    }\n",
       "</style>\n",
       "<table border=\"1\" class=\"dataframe\">\n",
       "  <thead>\n",
       "    <tr style=\"text-align: right;\">\n",
       "      <th></th>\n",
       "      <th>TRANSACTION_ID</th>\n",
       "      <th>TX_DATETIME</th>\n",
       "      <th>CUSTOMER_ID</th>\n",
       "      <th>TERMINAL_ID</th>\n",
       "      <th>TX_AMOUNT</th>\n",
       "      <th>TX_TIME_SECONDS</th>\n",
       "      <th>TX_TIME_DAYS</th>\n",
       "      <th>TX_FRAUD</th>\n",
       "      <th>TX_FRAUD_SCENARIO</th>\n",
       "      <th>DATE</th>\n",
       "    </tr>\n",
       "  </thead>\n",
       "  <tbody>\n",
       "    <tr>\n",
       "      <th>0</th>\n",
       "      <td>0</td>\n",
       "      <td>2018-04-01 00:00:31</td>\n",
       "      <td>596</td>\n",
       "      <td>3156</td>\n",
       "      <td>57.16</td>\n",
       "      <td>31</td>\n",
       "      <td>0</td>\n",
       "      <td>0</td>\n",
       "      <td>0</td>\n",
       "      <td>2018-04-01</td>\n",
       "    </tr>\n",
       "    <tr>\n",
       "      <th>1</th>\n",
       "      <td>1</td>\n",
       "      <td>2018-04-01 00:02:10</td>\n",
       "      <td>4961</td>\n",
       "      <td>3412</td>\n",
       "      <td>81.51</td>\n",
       "      <td>130</td>\n",
       "      <td>0</td>\n",
       "      <td>0</td>\n",
       "      <td>0</td>\n",
       "      <td>2018-04-01</td>\n",
       "    </tr>\n",
       "    <tr>\n",
       "      <th>2</th>\n",
       "      <td>2</td>\n",
       "      <td>2018-04-01 00:07:56</td>\n",
       "      <td>2</td>\n",
       "      <td>1365</td>\n",
       "      <td>146.00</td>\n",
       "      <td>476</td>\n",
       "      <td>0</td>\n",
       "      <td>0</td>\n",
       "      <td>0</td>\n",
       "      <td>2018-04-01</td>\n",
       "    </tr>\n",
       "    <tr>\n",
       "      <th>3</th>\n",
       "      <td>3</td>\n",
       "      <td>2018-04-01 00:09:29</td>\n",
       "      <td>4128</td>\n",
       "      <td>8737</td>\n",
       "      <td>64.49</td>\n",
       "      <td>569</td>\n",
       "      <td>0</td>\n",
       "      <td>0</td>\n",
       "      <td>0</td>\n",
       "      <td>2018-04-01</td>\n",
       "    </tr>\n",
       "    <tr>\n",
       "      <th>4</th>\n",
       "      <td>4</td>\n",
       "      <td>2018-04-01 00:10:34</td>\n",
       "      <td>927</td>\n",
       "      <td>9906</td>\n",
       "      <td>50.99</td>\n",
       "      <td>634</td>\n",
       "      <td>0</td>\n",
       "      <td>0</td>\n",
       "      <td>0</td>\n",
       "      <td>2018-04-01</td>\n",
       "    </tr>\n",
       "  </tbody>\n",
       "</table>\n",
       "</div>"
      ],
      "text/plain": [
       "   TRANSACTION_ID          TX_DATETIME  CUSTOMER_ID  TERMINAL_ID  TX_AMOUNT  \\\n",
       "0               0  2018-04-01 00:00:31          596         3156      57.16   \n",
       "1               1  2018-04-01 00:02:10         4961         3412      81.51   \n",
       "2               2  2018-04-01 00:07:56            2         1365     146.00   \n",
       "3               3  2018-04-01 00:09:29         4128         8737      64.49   \n",
       "4               4  2018-04-01 00:10:34          927         9906      50.99   \n",
       "\n",
       "   TX_TIME_SECONDS  TX_TIME_DAYS  TX_FRAUD  TX_FRAUD_SCENARIO        DATE  \n",
       "0               31             0         0                  0  2018-04-01  \n",
       "1              130             0         0                  0  2018-04-01  \n",
       "2              476             0         0                  0  2018-04-01  \n",
       "3              569             0         0                  0  2018-04-01  \n",
       "4              634             0         0                  0  2018-04-01  "
      ]
     },
     "execution_count": 6,
     "metadata": {},
     "output_type": "execute_result"
    }
   ],
   "source": [
    "df.head()"
   ]
  },
  {
   "cell_type": "markdown",
   "metadata": {},
   "source": [
    "### Understanding the Features\n",
    "\n",
    "\n",
    "Examine the data description below, and determine if any of the features are missing values or need to be coerced to a different data type.\n",
    "\n",
    "\n",
    "```\n",
    "Input variables:\n",
    "A payment card transaction consists of any amount paid to a merchant by a customer at a certain time. The six main features that summarise a transaction are:\n",
    "\n",
    "The transaction ID: A unique identifier for the transaction\n",
    "\n",
    "The date and time: Date and time at which the transaction occurs\n",
    "\n",
    "The customer ID: The identifier for the customer. Each customer has a unique identifier\n",
    "\n",
    "The terminal ID: The identifier for the merchant (or more precisely the terminal). Each terminal has a unique identifier\n",
    "\n",
    "The transaction amount: The amount of the transaction.\n",
    "\n",
    "The fraud label: A binary variable, with the value for a legitimate transaction, or the value for a fraudulent transaction.\n",
    "\n",
    "These features are referred to as TRANSACTION_ID, TX_DATETIME, CUSTOMER_ID, TERMINAL_ID, TX_AMOUNT, and TX_FRAUD.\n",
    "Output variable (desired target):\n",
    "\n",
    "```\n",
    "\n"
   ]
  },
  {
   "cell_type": "code",
   "execution_count": null,
   "metadata": {},
   "outputs": [],
   "source": []
  },
  {
   "attachments": {},
   "cell_type": "markdown",
   "metadata": {},
   "source": [
    "### Business Objective\n",
    "\n",
    "Fraud detection in financial applications involves leveraging advanced analytics, machine learning algorithms, and collaboration across multiple stakeholders to identify and prevent fraudulent activities effectively. By implementing robust fraud detection systems and maintaining compliance with regulatory standards, financial institutions can mitigate the risks associated with fraudulent transactions and protect their assets and reputation. This project aims to contribute to the development of effective fraud detection mechanisms, ultimately supporting financial stability and security."
   ]
  },
  {
   "cell_type": "code",
   "execution_count": 8,
   "metadata": {},
   "outputs": [
    {
     "name": "stdout",
     "output_type": "stream",
     "text": [
      "<class 'pandas.core.frame.DataFrame'>\n",
      "RangeIndex: 1754155 entries, 0 to 1754154\n",
      "Data columns (total 10 columns):\n",
      " #   Column             Dtype  \n",
      "---  ------             -----  \n",
      " 0   TRANSACTION_ID     int64  \n",
      " 1   TX_DATETIME        object \n",
      " 2   CUSTOMER_ID        int64  \n",
      " 3   TERMINAL_ID        int64  \n",
      " 4   TX_AMOUNT          float64\n",
      " 5   TX_TIME_SECONDS    int64  \n",
      " 6   TX_TIME_DAYS       int64  \n",
      " 7   TX_FRAUD           int64  \n",
      " 8   TX_FRAUD_SCENARIO  int64  \n",
      " 9   DATE               object \n",
      "dtypes: float64(1), int64(7), object(2)\n",
      "memory usage: 133.8+ MB\n"
     ]
    }
   ],
   "source": [
    "# Understanding the Features\n",
    "df.info()"
   ]
  },
  {
   "cell_type": "markdown",
   "metadata": {},
   "source": [
    "### Visualization\n",
    "\n",
    "Understand the distribution of features and the presence of fraud in different scenarios."
   ]
  },
  {
   "cell_type": "code",
   "execution_count": 10,
   "metadata": {},
   "outputs": [
    {
     "data": {
      "image/png": "[encoded data removed]",
      "text/plain": [
       "<Figure size 1000x600 with 1 Axes>"
      ]
     },
     "metadata": {},
     "output_type": "display_data"
    },
    {
     "data": {
      "image/png": "[encoded data removed]",
      "text/plain": [
       "<Figure size 1000x600 with 1 Axes>"
      ]
     },
     "metadata": {},
     "output_type": "display_data"
    },
    {
     "data": {
      "image/png": "[encoded data removed]",
      "text/plain": [
       "<Figure size 1000x600 with 1 Axes>"
      ]
     },
     "metadata": {},
     "output_type": "display_data"
    }
   ],
   "source": [
    "# Distribution of transaction amounts\n",
    "plt.figure(figsize=(10, 6))\n",
    "sns.histplot(df['TX_AMOUNT'], bins=50, kde=True)\n",
    "plt.title('Transaction Amount Distribution')\n",
    "plt.xlabel('Transaction Amount')\n",
    "plt.ylabel('Frequency')\n",
    "plt.show()\n",
    "\n",
    "# Fraud distribution\n",
    "plt.figure(figsize=(10, 6))\n",
    "sns.countplot(x='TX_FRAUD', data=df)\n",
    "plt.title('Fraud vs Non-Fraud Transactions')\n",
    "plt.xlabel('Fraud (0: Non-Fraud, 1: Fraud)')\n",
    "plt.ylabel('Count')\n",
    "plt.show()\n",
    "\n",
    "# Scenario 3 fraud distribution\n",
    "df_scenario = df[df['TX_FRAUD_SCENARIO'] != 0]\n",
    "plt.figure(figsize=(10, 6))\n",
    "sns.countplot(x='TX_FRAUD_SCENARIO', data=df_scenario)\n",
    "plt.title('Fraud Scenario Distribution')\n",
    "plt.xlabel('Fraud Scenario')\n",
    "plt.ylabel('Count')\n",
    "plt.show()\n"
   ]
  },
  {
   "cell_type": "markdown",
   "metadata": {},
   "source": [
    "### Engineering Features\n",
    "\n",
    "Create features that will be useful for detecting fraud"
   ]
  },
  {
   "cell_type": "code",
   "execution_count": 12,
   "metadata": {},
   "outputs": [],
   "source": [
    "# Engineering Features\n",
    "df['TX_DATETIME'] = pd.to_datetime(df['TX_DATETIME'])\n",
    "df['TX_DAY_OF_WEEK'] = df['TX_DATETIME'].dt.dayofweek\n",
    "df['TX_HOUR'] = df['TX_DATETIME'].dt.hour\n",
    "df['TX_MONTH'] = df['TX_DATETIME'].dt.month\n",
    "\n",
    "# Adding a feature for the logarithm of the transaction amount\n",
    "df['TX_AMOUNT_LOG'] = np.log1p(df['TX_AMOUNT'])\n",
    "\n",
    "# Adding interaction terms\n",
    "df['CUSTOMER_TERMINAL'] = df['CUSTOMER_ID'].astype(str) + '_' + df['TERMINAL_ID'].astype(str)\n"
   ]
  },
  {
   "cell_type": "code",
   "execution_count": null,
   "metadata": {},
   "outputs": [],
   "source": []
  },
  {
   "cell_type": "code",
   "execution_count": null,
   "metadata": {},
   "outputs": [],
   "source": []
  },
  {
   "cell_type": "markdown",
   "metadata": {},
   "source": [
    "### Train/Test Split\n",
    "\n",
    "With your data prepared, split it into a train and test set."
   ]
  },
  {
   "cell_type": "code",
   "execution_count": 14,
   "metadata": {},
   "outputs": [],
   "source": [
    "features = ['TX_AMOUNT', 'TX_DAY_OF_WEEK', 'TX_HOUR', 'TX_MONTH', 'TX_AMOUNT_LOG']\n",
    "X = df[features]\n",
    "y = df['TX_FRAUD']"
   ]
  },
  {
   "cell_type": "code",
   "execution_count": 16,
   "metadata": {},
   "outputs": [],
   "source": [
    "X_train, X_test, y_train, y_test = train_test_split(X, y, test_size=0.3, random_state=42)"
   ]
  },
  {
   "cell_type": "code",
   "execution_count": null,
   "metadata": {},
   "outputs": [],
   "source": []
  },
  {
   "cell_type": "markdown",
   "metadata": {},
   "source": [
    "### A Baseline Model\n",
    "\n",
    "Before we build our first model, we want to establish a baseline.  What is the baseline performance that our classifier should aim to beat?"
   ]
  },
  {
   "cell_type": "code",
   "execution_count": 18,
   "metadata": {},
   "outputs": [
    {
     "name": "stdout",
     "output_type": "stream",
     "text": [
      "Baseline Model Evaluation\n",
      "[[521905      0]\n",
      " [  3794    548]]\n",
      "              precision    recall  f1-score   support\n",
      "\n",
      "           0       0.99      1.00      1.00    521905\n",
      "           1       1.00      0.13      0.22      4342\n",
      "\n",
      "    accuracy                           0.99    526247\n",
      "   macro avg       1.00      0.56      0.61    526247\n",
      "weighted avg       0.99      0.99      0.99    526247\n",
      "\n"
     ]
    }
   ],
   "source": [
    "# A Baseline Model\n",
    "baseline_model = LogisticRegression()\n",
    "baseline_model.fit(X_train, y_train)\n",
    "\n",
    "y_pred_baseline = baseline_model.predict(X_test)\n",
    "\n",
    "# Evaluate baseline model\n",
    "print(\"Baseline Model Evaluation\")\n",
    "print(confusion_matrix(y_test, y_pred_baseline))\n",
    "print(classification_report(y_test, y_pred_baseline))"
   ]
  },
  {
   "cell_type": "code",
   "execution_count": null,
   "metadata": {},
   "outputs": [],
   "source": []
  },
  {
   "cell_type": "code",
   "execution_count": null,
   "metadata": {},
   "outputs": [],
   "source": []
  },
  {
   "cell_type": "markdown",
   "metadata": {},
   "source": [
    "### Problem 8: A Simple Model\n",
    "\n",
    "Use Logistic Regression to build a basic model on your data.  "
   ]
  },
  {
   "cell_type": "code",
   "execution_count": 20,
   "metadata": {},
   "outputs": [
    {
     "name": "stdout",
     "output_type": "stream",
     "text": [
      "Simple Model Evaluation\n",
      "[[521900      5]\n",
      " [  3371    971]]\n",
      "              precision    recall  f1-score   support\n",
      "\n",
      "           0       0.99      1.00      1.00    521905\n",
      "           1       0.99      0.22      0.37      4342\n",
      "\n",
      "    accuracy                           0.99    526247\n",
      "   macro avg       0.99      0.61      0.68    526247\n",
      "weighted avg       0.99      0.99      0.99    526247\n",
      "\n"
     ]
    }
   ],
   "source": [
    "# Simple Model\n",
    "simple_model = DecisionTreeClassifier(max_depth=5)\n",
    "simple_model.fit(X_train, y_train)\n",
    "\n",
    "y_pred_simple = simple_model.predict(X_test)\n",
    "\n",
    "# Evaluate simple model\n",
    "print(\"Simple Model Evaluation\")\n",
    "print(confusion_matrix(y_test, y_pred_simple))\n",
    "print(classification_report(y_test, y_pred_simple))"
   ]
  },
  {
   "cell_type": "markdown",
   "metadata": {},
   "source": [
    "### Problem 9: Score the Model\n",
    "\n",
    "What is the accuracy of your model?"
   ]
  },
  {
   "cell_type": "code",
   "execution_count": 22,
   "metadata": {},
   "outputs": [
    {
     "name": "stdout",
     "output_type": "stream",
     "text": [
      "Simple Model - Accuracy: 0.9935847615283318\n",
      "Simple Model - Precision: 0.9948770491803278\n",
      "Simple Model - Recall: 0.22362966374942422\n",
      "Simple Model - F1 Score: 0.3651748777735991\n"
     ]
    }
   ],
   "source": [
    "# Scoring Function\n",
    "def score_model(y_true, y_pred):\n",
    "    accuracy = accuracy_score(y_true, y_pred)\n",
    "    precision = precision_score(y_true, y_pred)\n",
    "    recall = recall_score(y_true, y_pred)\n",
    "    f1 = f1_score(y_true, y_pred)\n",
    "    return accuracy, precision, recall, f1\n",
    "\n",
    "# Score the simple model\n",
    "accuracy, precision, recall, f1 = score_model(y_test, y_pred_simple)\n",
    "print(f'Simple Model - Accuracy: {accuracy}')\n",
    "print(f'Simple Model - Precision: {precision}')\n",
    "print(f'Simple Model - Recall: {recall}')\n",
    "print(f'Simple Model - F1 Score: {f1}')"
   ]
  },
  {
   "cell_type": "markdown",
   "metadata": {},
   "source": [
    "### Problem 10: Model Comparisons\n",
    "\n",
    "Now, we aim to compare the performance of the Logistic Regression model to our KNN algorithm, Decision Tree, and SVM models.  Using the default settings for each of the models, fit and score each.  Also, be sure to compare the fit time of each of the models.  Present your findings in a `DataFrame` similar to that below:\n",
    "\n",
    "| Model | Train Time | Train Accuracy | Test Accuracy |\n",
    "| ----- | ---------- | -------------  | -----------   |\n",
    "|     |    |.     |.     |"
   ]
  },
  {
   "cell_type": "code",
   "execution_count": 24,
   "metadata": {},
   "outputs": [
    {
     "name": "stdout",
     "output_type": "stream",
     "text": [
      "Baseline Model - Accuracy: 0.992790457712823, Precision: 1.0, Recall: 0.12620912022109626, F1 Score: 0.22413087934560327\n",
      "Simple Model - Accuracy: 0.9935847615283318, Precision: 0.9948770491803278, Recall: 0.22362966374942422, F1 Score: 0.3651748777735991\n",
      "Baseline Model - Accuracy: 0.992790457712823, Precision: 1.0, Recall: 0.12620912022109626, F1 Score: 0.22413087934560327\n"
     ]
    }
   ],
   "source": [
    "# Score the baseline model\n",
    "accuracy_baseline, precision_baseline, recall_baseline, f1_baseline = score_model(y_test, y_pred_baseline)\n",
    "print(f'Baseline Model - Accuracy: {accuracy_baseline}, Precision: {precision_baseline}, Recall: {recall_baseline}, F1 Score: {f1_baseline}')\n",
    "\n",
    "# Model Comparison\n",
    "print(f'Simple Model - Accuracy: {accuracy}, Precision: {precision}, Recall: {recall}, F1 Score: {f1}')\n",
    "print(f'Baseline Model - Accuracy: {accuracy_baseline}, Precision: {precision_baseline}, Recall: {recall_baseline}, F1 Score: {f1_baseline}')\n"
   ]
  },
  {
   "cell_type": "code",
   "execution_count": null,
   "metadata": {},
   "outputs": [],
   "source": []
  },
  {
   "cell_type": "code",
   "execution_count": null,
   "metadata": {},
   "outputs": [],
   "source": []
  },
  {
   "cell_type": "markdown",
   "metadata": {},
   "source": [
    "### Problem 11: Improving the Model\n",
    "\n",
    "Now that we have some basic models on the board, we want to try to improve these.  Below, we list a few things to explore in this pursuit.\n",
    "\n",
    "- More feature engineering and exploration.  For example, should we keep the gender feature?  Why or why not?\n",
    "- Hyperparameter tuning and grid search.  All of our models have additional hyperparameters to tune and explore.  For example the number of neighbors in KNN or the maximum depth of a Decision Tree.  \n",
    "- Adjust your performance metric"
   ]
  },
  {
   "cell_type": "code",
   "execution_count": 26,
   "metadata": {},
   "outputs": [],
   "source": [
    "# Improve the Model\n",
    "# Define parameter grid\n",
    "param_grid = {\n",
    "    'n_estimators': [100, 200],\n",
    "    'max_depth': [None, 10, 20],\n",
    "    'min_samples_split': [2, 5],\n",
    "    'min_samples_leaf': [1, 2]\n",
    "}"
   ]
  },
  {
   "cell_type": "code",
   "execution_count": 30,
   "metadata": {},
   "outputs": [],
   "source": [
    "# Random Forest with GridSearchCV\n",
    "# rf_model = RandomForestClassifier()\n",
    "# grid_search = GridSearchCV(rf_model, param_grid, cv=3, scoring='f1')\n",
    "# grid_search.fit(X_train, y_train)\n",
    "\n",
    "# best_rf_model = grid_search.best_estimator_\n",
    "# y_pred_rf = best_rf_model.predict(X_test)\n",
    "\n"
   ]
  },
  {
   "cell_type": "code",
   "execution_count": null,
   "metadata": {},
   "outputs": [],
   "source": [
    "# Improve the Model with RandomizedSearchCV\n",
    "# Define parameter grid\n",
    "param_dist = {\n",
    "    'n_estimators': [100, 200, 300],\n",
    "    'max_depth': [None, 10, 20, 30],\n",
    "    'min_samples_split': [2, 5, 10],\n",
    "    'min_samples_leaf': [1, 2, 4]\n",
    "}\n",
    "\n",
    "# Random Forest with RandomizedSearchCV\n",
    "rf_model = RandomForestClassifier()\n",
    "random_search = RandomizedSearchCV(rf_model, param_dist, n_iter=50, cv=3, scoring='f1', random_state=42, n_jobs=-1)\n",
    "random_search.fit(X_train, y_train)\n",
    "\n",
    "best_rf_model = random_search.best_estimator_\n",
    "y_pred_rf = best_rf_model.predict(X_test)"
   ]
  },
  {
   "cell_type": "code",
   "execution_count": null,
   "metadata": {},
   "outputs": [],
   "source": [
    "# Evaluate the best model\n",
    "print(\"Best Model Evaluation (Random Forest)\")\n",
    "print(confusion_matrix(y_test, y_pred_rf))\n",
    "print(classification_report(y_test, y_pred_rf))\n",
    "\n",
    "# Score the best model\n",
    "accuracy_rf, precision_rf, recall_rf, f1_rf = score_model(y_test, y_pred_rf)\n",
    "print(f'Best Model (Random Forest) - Accuracy: {accuracy_rf}')\n",
    "print(f'Best Model (Random Forest) - Precision: {precision_rf}')\n",
    "print(f'Best Model (Random Forest) - Recall: {recall_rf}')\n",
    "print(f'Best Model (Random Forest) - F1 Score: {f1_rf}')"
   ]
  },
  {
   "cell_type": "code",
   "execution_count": null,
   "metadata": {},
   "outputs": [],
   "source": []
  },
  {
   "cell_type": "code",
   "execution_count": null,
   "metadata": {},
   "outputs": [],
   "source": []
  },
  {
   "cell_type": "code",
   "execution_count": null,
   "metadata": {},
   "outputs": [],
   "source": []
  },
  {
   "cell_type": "code",
   "execution_count": null,
   "metadata": {},
   "outputs": [],
   "source": []
  },
  {
   "cell_type": "code",
   "execution_count": null,
   "metadata": {},
   "outputs": [],
   "source": []
  },
  {
   "cell_type": "code",
   "execution_count": null,
   "metadata": {},
   "outputs": [],
   "source": []
  },
  {
   "cell_type": "code",
   "execution_count": null,
   "metadata": {},
   "outputs": [],
   "source": []
  },
  {
   "cell_type": "code",
   "execution_count": null,
   "metadata": {},
   "outputs": [],
   "source": []
  },
  {
   "cell_type": "markdown",
   "metadata": {},
   "source": [
    "##### Questions"
   ]
  }
 ],
 "metadata": {
  "kernelspec": {
   "display_name": "Python 3 (ipykernel)",
   "language": "python",
   "name": "python3"
  },
  "language_info": {
   "codemirror_mode": {
    "name": "ipython",
    "version": 3
   },
   "file_extension": ".py",
   "mimetype": "text/x-python",
   "name": "python",
   "nbconvert_exporter": "python",
   "pygments_lexer": "ipython3",
   "version": "3.11.5"
  },
  "widgets": {
   "application/vnd.jupyter.widget-state+json": {
    "state": {},
    "version_major": 2,
    "version_minor": 0
   }
  }
 },
 "nbformat": 4,
 "nbformat_minor": 4
}
